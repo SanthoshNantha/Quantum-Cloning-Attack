{
 "cells": [
  {
   "cell_type": "code",
   "execution_count": 1,
   "id": "9bd48e25-0122-4ec9-a3b3-56aa8cde1bee",
   "metadata": {},
   "outputs": [
    {
     "ename": "ImportError",
     "evalue": "cannot import name 'Aer' from 'qiskit' (C:\\Users\\91770\\Miniconda3\\Lib\\site-packages\\qiskit\\__init__.py)",
     "output_type": "error",
     "traceback": [
      "\u001b[31m---------------------------------------------------------------------------\u001b[39m",
      "\u001b[31mImportError\u001b[39m                               Traceback (most recent call last)",
      "\u001b[36mCell\u001b[39m\u001b[36m \u001b[39m\u001b[32mIn[1]\u001b[39m\u001b[32m, line 1\u001b[39m\n\u001b[32m----> \u001b[39m\u001b[32m1\u001b[39m \u001b[38;5;28;01mfrom\u001b[39;00m\u001b[38;5;250m \u001b[39m\u001b[34;01mqiskit\u001b[39;00m\u001b[38;5;250m \u001b[39m\u001b[38;5;28;01mimport\u001b[39;00m QuantumCircuit, Aer, execute\n\u001b[32m      2\u001b[39m \u001b[38;5;28;01mfrom\u001b[39;00m\u001b[38;5;250m \u001b[39m\u001b[34;01mqiskit\u001b[39;00m\u001b[34;01m.\u001b[39;00m\u001b[34;01mvisualization\u001b[39;00m\u001b[38;5;250m \u001b[39m\u001b[38;5;28;01mimport\u001b[39;00m plot_histogram\n\u001b[32m      3\u001b[39m \u001b[38;5;28;01mimport\u001b[39;00m\u001b[38;5;250m \u001b[39m\u001b[34;01mmatplotlib\u001b[39;00m\u001b[34;01m.\u001b[39;00m\u001b[34;01mpyplot\u001b[39;00m\u001b[38;5;250m \u001b[39m\u001b[38;5;28;01mas\u001b[39;00m\u001b[38;5;250m \u001b[39m\u001b[34;01mplt\u001b[39;00m\n",
      "\u001b[31mImportError\u001b[39m: cannot import name 'Aer' from 'qiskit' (C:\\Users\\91770\\Miniconda3\\Lib\\site-packages\\qiskit\\__init__.py)"
     ]
    }
   ],
   "source": [
    "from qiskit import QuantumCircuit, Aer, execute\n",
    "from qiskit.visualization import plot_histogram\n",
    "import matplotlib.pyplot as plt\n",
    "\n",
    "# Create QKD qubit (|+⟩)\n",
    "qkd = QuantumCircuit(1, name=\"QKD\")\n",
    "qkd.h(0)  # |+⟩ = (|0⟩ + |1⟩)/√2\n",
    "\n",
    "# Eve intercepts and measures\n",
    "eve = QuantumCircuit(1, 1)\n",
    "eve.h(0)\n",
    "eve.measure(0, 0)\n",
    "\n",
    "# Simulate Eve's action\n",
    "simulator = Aer.get_backend('qasm_simulator')\n",
    "job_eve = execute(eve, simulator, shots=1024)\n",
    "eve_counts = job_eve.result().get_counts()\n",
    "\n",
    "# Assume Eve resends the measured qubit\n",
    "# Bob receives and measures in the Hadamard basis\n",
    "bob = QuantumCircuit(1, 1)\n",
    "bob.h(0)\n",
    "bob.measure(0, 0)\n",
    "\n",
    "job_bob = execute(bob, simulator, shots=1024)\n",
    "bob_counts = job_bob.result().get_counts()\n",
    "\n",
    "# Display results\n",
    "print(\"Eve's Measurement:\")\n",
    "print(eve_counts)\n",
    "\n",
    "print(\"Bob's Measurement:\")\n",
    "print(bob_counts)\n",
    "\n",
    "# Plot\n",
    "plot_histogram([eve_counts, bob_counts], legend=['Eve', 'Bob'])\n",
    "plt.show()\n"
   ]
  },
  {
   "cell_type": "code",
   "execution_count": null,
   "id": "78c15850-d4f1-4174-89b4-daf12e62eaf0",
   "metadata": {},
   "outputs": [],
   "source": []
  }
 ],
 "metadata": {
  "kernelspec": {
   "display_name": "Python 3 (ipykernel)",
   "language": "python",
   "name": "python3"
  },
  "language_info": {
   "codemirror_mode": {
    "name": "ipython",
    "version": 3
   },
   "file_extension": ".py",
   "mimetype": "text/x-python",
   "name": "python",
   "nbconvert_exporter": "python",
   "pygments_lexer": "ipython3",
   "version": "3.12.9"
  }
 },
 "nbformat": 4,
 "nbformat_minor": 5
}
