{
 "cells": [
  {
   "cell_type": "code",
   "execution_count": 1,
   "id": "dd9e7fc6",
   "metadata": {},
   "outputs": [],
   "source": [
    "import qiskit"
   ]
  },
  {
   "cell_type": "code",
   "execution_count": 2,
   "id": "79a4a021",
   "metadata": {},
   "outputs": [],
   "source": [
    "from qiskit_aer import Aer"
   ]
  },
  {
   "cell_type": "code",
   "execution_count": 3,
   "id": "70e9f532",
   "metadata": {},
   "outputs": [
    {
     "name": "stdout",
     "output_type": "stream",
     "text": [
      "AerSimulator('aer_simulator')\n"
     ]
    }
   ],
   "source": [
    "from qiskit_aer import Aer\n",
    "\n",
    "# Now you can use Aer.get_backend as intended\n",
    "aer_simulator = Aer.get_backend('aer_simulator')\n",
    "print(aer_simulator)"
   ]
  },
  {
   "cell_type": "code",
   "execution_count": 5,
   "id": "81f06610",
   "metadata": {},
   "outputs": [
    {
     "name": "stdout",
     "output_type": "stream",
     "text": [
      "--- Starting QKD Simulation with 2048 shots ---\n",
      "\n",
      "Alice prepares a qubit in the |+⟩ state.\n",
      "   ┌───┐\n",
      "q: ┤ H ├\n",
      "   └───┘\n",
      "\n",
      "Eve intercepts the qubit, measures it in the Hadamard basis, and resends.\n",
      "     ┌───┐┌─┐\n",
      "  q: ┤ H ├┤M├\n",
      "     └───┘└╥┘\n",
      "c: 1/══════╩═\n",
      "           0 \n",
      "\n",
      "Eve's Measurement Results (counts): {'0': 1006, '1': 1042}\n",
      "\n",
      "Bob receives the (potentially altered) qubit and measures it in the Hadamard basis.\n",
      "     ┌───┐┌─┐\n",
      "  q: ┤ H ├┤M├\n",
      "     └───┘└╥┘\n",
      "c: 1/══════╩═\n",
      "           0 \n",
      "\n",
      "Bob's Measurement Results (counts): {'0': 1007, '1': 1041}\n",
      "\n",
      "--- Simulation Complete ---\n",
      "\n",
      "--- Plotting Results ---\n"
     ]
    },
    {
     "data": {
      "text/plain": [
       "<Figure size 640x480 with 0 Axes>"
      ]
     },
     "metadata": {},
     "output_type": "display_data"
    },
    {
     "name": "stdout",
     "output_type": "stream",
     "text": [
      "--- Plot Displayed ---\n",
      "\n",
      "--- End of Mini-Project ---\n",
      "Notice that both Eve and Bob measure roughly 50/50 for '0' and '1'.\n",
      "This is because Alice sent a |+⟩ state.\n",
      "Eve measured it in the Hadamard basis, collapsing it to either |0⟩ or |1⟩.\n",
      "When Bob then measured the (now |0⟩ or |1⟩) state in the Hadamard basis,\n",
      "he also got a 50/50 chance of '0' or '1'.\n",
      "In a real QKD protocol, this discrepancy (Alice sending |+⟩ and Bob not consistently receiving it)\n",
      "would alert Alice and Bob to Eve's presence.\n"
     ]
    }
   ],
   "source": [
    "# -*- coding: utf-8 -*-\n",
    "\"\"\"\n",
    "A mini-project simulating a simplified Quantum Key Distribution (QKD)\n",
    "protocol with an eavesdropper (Eve).\n",
    "\n",
    "This script demonstrates how Eve's measurement of a quantum state\n",
    "can disturb the state, leading to a detectable difference in Bob's\n",
    "measurements compared to what would be expected without eavesdropping.\n",
    "\n",
    "Key Concepts:\n",
    "- Quantum Circuit: Used to define quantum operations.\n",
    "- Hadamard Gate (H): Creates superposition states (e.g., |+⟩ = (|0⟩ + |1⟩)/√2).\n",
    "- Measurement: Collapses the quantum state to a classical outcome.\n",
    "- Quantum Simulator: Used to run quantum circuits locally.\n",
    "- Histogram: Visualizes the distribution of measurement outcomes.\n",
    "\"\"\"\n",
    "\n",
    "from qiskit import QuantumCircuit, transpile\n",
    "from qiskit_aer import AerSimulator\n",
    "from qiskit.visualization import plot_histogram\n",
    "import matplotlib.pyplot as plt\n",
    "\n",
    "def run_qkd_simulation(shots=1024):\n",
    "    \"\"\"\n",
    "    Runs a simplified QKD simulation with an eavesdropper.\n",
    "\n",
    "    Alice prepares a |+⟩ state.\n",
    "    Eve intercepts, measures in the Hadamard basis, and resends.\n",
    "    Bob receives and measures in the Hadamard basis.\n",
    "\n",
    "    Args:\n",
    "        shots (int): The number of times to run the circuit for measurement.\n",
    "\n",
    "    Returns:\n",
    "        tuple: A tuple containing Eve's measurement counts and Bob's measurement counts.\n",
    "    \"\"\"\n",
    "\n",
    "    print(f\"--- Starting QKD Simulation with {shots} shots ---\")\n",
    "\n",
    "    # 1. Alice prepares the QKD qubit in |+⟩ state\n",
    "    # This circuit represents Alice's preparation of a single qubit\n",
    "    # in the Hadamard basis (|+⟩ state).\n",
    "    alice_circuit = QuantumCircuit(1, name=\"Alice_Prep\")\n",
    "    alice_circuit.h(0)  # Apply Hadamard gate to create |+⟩ = (|0⟩ + |1⟩)/√2\n",
    "\n",
    "    print(\"\\nAlice prepares a qubit in the |+⟩ state.\")\n",
    "    print(alice_circuit.draw(output='text', fold=-1))\n",
    "\n",
    "    # 2. Eve intercepts and measures the qubit\n",
    "    # Eve creates her own circuit to intercept Alice's qubit.\n",
    "    # She applies a Hadamard gate (to measure in the Hadamard basis)\n",
    "    # and then measures the qubit.\n",
    "    eve_circuit = QuantumCircuit(1, 1, name=\"Eve_Intercept\")\n",
    "    eve_circuit.h(0)      # Eve measures in the Hadamard basis\n",
    "    eve_circuit.measure(0, 0) # Eve measures the qubit\n",
    "\n",
    "    print(\"\\nEve intercepts the qubit, measures it in the Hadamard basis, and resends.\")\n",
    "    print(eve_circuit.draw(output='text', fold=-1))\n",
    "\n",
    "    # Initialize the Aer simulator\n",
    "    simulator = AerSimulator()\n",
    "\n",
    "    # Simulate Eve's action\n",
    "    # We transpile the circuit for the simulator to optimize it.\n",
    "    transpiled_eve_circuit = transpile(eve_circuit, simulator)\n",
    "    job_eve = simulator.run(transpiled_eve_circuit, shots=shots)\n",
    "    eve_result = job_eve.result()\n",
    "    eve_counts = eve_result.get_counts(transpiled_eve_circuit)\n",
    "\n",
    "    print(f\"\\nEve's Measurement Results (counts): {eve_counts}\")\n",
    "\n",
    "    # 3. Bob receives Eve's resubmitted qubit and measures\n",
    "    # Bob receives the qubit (which was potentially altered by Eve's measurement).\n",
    "    # He also measures in the Hadamard basis.\n",
    "    bob_circuit = QuantumCircuit(1, 1, name=\"Bob_Measurement\")\n",
    "    bob_circuit.h(0)      # Bob measures in the Hadamard basis\n",
    "    bob_circuit.measure(0, 0) # Bob measures the qubit\n",
    "\n",
    "    print(\"\\nBob receives the (potentially altered) qubit and measures it in the Hadamard basis.\")\n",
    "    print(bob_circuit.draw(output='text', fold=-1))\n",
    "\n",
    "    # Simulate Bob's action\n",
    "    transpiled_bob_circuit = transpile(bob_circuit, simulator)\n",
    "    job_bob = simulator.run(transpiled_bob_circuit, shots=shots)\n",
    "    bob_result = job_bob.result()\n",
    "    bob_counts = bob_result.get_counts(transpiled_bob_circuit)\n",
    "\n",
    "    print(f\"\\nBob's Measurement Results (counts): {bob_counts}\")\n",
    "\n",
    "    print(\"\\n--- Simulation Complete ---\")\n",
    "\n",
    "    return eve_counts, bob_counts\n",
    "\n",
    "def visualize_results(eve_counts, bob_counts):\n",
    "    \"\"\"\n",
    "    Visualizes the measurement results using a histogram.\n",
    "\n",
    "    Args:\n",
    "        eve_counts (dict): Dictionary of Eve's measurement counts.\n",
    "        bob_counts (dict): Dictionary of Bob's measurement counts.\n",
    "    \"\"\"\n",
    "    print(\"\\n--- Plotting Results ---\")\n",
    "    fig = plot_histogram([eve_counts, bob_counts], legend=['Eve', 'Bob'], title=\"QKD Eavesdropping Simulation Results\")\n",
    "    plt.tight_layout() # Adjust layout to prevent labels from overlapping\n",
    "    plt.show()\n",
    "    print(\"--- Plot Displayed ---\")\n",
    "\n",
    "if __name__ == \"__main__\":\n",
    "    # Run the simulation\n",
    "    eve_measurements, bob_measurements = run_qkd_simulation(shots=2048) # Increased shots for better statistics\n",
    "\n",
    "    # Visualize the outcomes\n",
    "    visualize_results(eve_measurements, bob_measurements)\n",
    "\n",
    "    print(\"\\n--- End of Mini-Project ---\")\n",
    "    print(\"Notice that both Eve and Bob measure roughly 50/50 for '0' and '1'.\")\n",
    "    print(\"This is because Alice sent a |+⟩ state.\")\n",
    "    print(\"Eve measured it in the Hadamard basis, collapsing it to either |0⟩ or |1⟩.\")\n",
    "    print(\"When Bob then measured the (now |0⟩ or |1⟩) state in the Hadamard basis,\")\n",
    "    print(\"he also got a 50/50 chance of '0' or '1'.\")\n",
    "    print(\"In a real QKD protocol, this discrepancy (Alice sending |+⟩ and Bob not consistently receiving it)\")\n",
    "    print(\"would alert Alice and Bob to Eve's presence.\")\n"
   ]
  }
 ],
 "metadata": {
  "kernelspec": {
   "display_name": "qiskit10",
   "language": "python",
   "name": "python3"
  },
  "language_info": {
   "codemirror_mode": {
    "name": "ipython",
    "version": 3
   },
   "file_extension": ".py",
   "mimetype": "text/x-python",
   "name": "python",
   "nbconvert_exporter": "python",
   "pygments_lexer": "ipython3",
   "version": "3.10.18"
  }
 },
 "nbformat": 4,
 "nbformat_minor": 5
}
